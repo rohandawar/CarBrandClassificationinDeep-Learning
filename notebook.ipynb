{
  "nbformat": 4,
  "nbformat_minor": 0,
  "metadata": {
    "colab": {
      "name": "notebook.ipynb",
      "provenance": [],
      "mount_file_id": "18LxqDr6DRM7nEC1B_9T5wvJ5Uu5ONxKV",
      "authorship_tag": "ABX9TyN3SGT9esi1zCOGheM/hZMc",
      "include_colab_link": true
    },
    "kernelspec": {
      "name": "python3",
      "display_name": "Python 3"
    },
    "language_info": {
      "name": "python"
    }
  },
  "cells": [
    {
      "cell_type": "markdown",
      "metadata": {
        "id": "view-in-github",
        "colab_type": "text"
      },
      "source": [
        "<a href=\"https://colab.research.google.com/github/rohandawar/CarBrandClassificationinDeep-Learning/blob/main/notebook.ipynb\" target=\"_parent\"><img src=\"https://colab.research.google.com/assets/colab-badge.svg\" alt=\"Open In Colab\"/></a>"
      ]
    },
    {
      "cell_type": "markdown",
      "metadata": {
        "id": "394HMxZAu38_"
      },
      "source": [
        "Link for how to copy kaggle data into google colab:\n",
        "https://medium.com/analytics-vidhya/how-to-fetch-kaggle-datasets-into-google-colab-ea682569851a"
      ]
    },
    {
      "cell_type": "code",
      "metadata": {
        "colab": {
          "base_uri": "https://localhost:8080/"
        },
        "id": "59szw0JStCX5",
        "outputId": "88fc97be-1c4c-4fb1-9115-8fc88fe86ee5"
      },
      "source": [
        "#Mounting the drive\n",
        "from google.colab import drive\n",
        "drive.mount('/content/gdrive')"
      ],
      "execution_count": 2,
      "outputs": [
        {
          "output_type": "stream",
          "text": [
            "Mounted at /content/gdrive\n"
          ],
          "name": "stdout"
        }
      ]
    },
    {
      "cell_type": "code",
      "metadata": {
        "id": "fVBarATLtb6-"
      },
      "source": [
        "# /content/gdrive/My Drive/Kaggle is the path where kaggle.json is present in the Google Drive\n",
        "import os\n",
        "os.environ['KAGGLE_CONFIG_DIR'] = '/content/gdrive/My Drive/Kaggle'"
      ],
      "execution_count": 3,
      "outputs": []
    },
    {
      "cell_type": "code",
      "metadata": {
        "colab": {
          "base_uri": "https://localhost:8080/"
        },
        "id": "acEE1OnwtzKS",
        "outputId": "56eb160d-b25d-482a-a6a9-502321e65a73"
      },
      "source": [
        "#check the present working directory\n",
        "!pwd"
      ],
      "execution_count": 4,
      "outputs": [
        {
          "output_type": "stream",
          "text": [
            "/content\n"
          ],
          "name": "stdout"
        }
      ]
    },
    {
      "cell_type": "code",
      "metadata": {
        "colab": {
          "base_uri": "https://localhost:8080/"
        },
        "id": "BeaqTi4xt6mP",
        "outputId": "d94e5426-75bc-43b7-a9ad-29939c1931fd"
      },
      "source": [
        "#change to the directory where the file is present\n",
        "%cd /content/gdrive/My Drive/Kaggle\n",
        "!pwd"
      ],
      "execution_count": 6,
      "outputs": [
        {
          "output_type": "stream",
          "text": [
            "/content/gdrive/My Drive/Kaggle\n",
            "/content/gdrive/My Drive/Kaggle\n"
          ],
          "name": "stdout"
        }
      ]
    },
    {
      "cell_type": "code",
      "metadata": {
        "colab": {
          "base_uri": "https://localhost:8080/"
        },
        "id": "VdkV_RuSuFBl",
        "outputId": "fb4a8a24-a212-44b9-f096-ae6f9b0c5662"
      },
      "source": [
        "#copy and paste the API command from kaggle to collab notebook\n",
        "!kaggle datasets download -d ritesh2000/car-brand-images-dataset"
      ],
      "execution_count": 7,
      "outputs": [
        {
          "output_type": "stream",
          "text": [
            "Downloading car-brand-images-dataset.zip to /content/gdrive/My Drive/Kaggle\n",
            "\r  0% 0.00/1.06M [00:00<?, ?B/s]\n",
            "\r100% 1.06M/1.06M [00:00<00:00, 35.7MB/s]\n"
          ],
          "name": "stdout"
        }
      ]
    },
    {
      "cell_type": "code",
      "metadata": {
        "colab": {
          "base_uri": "https://localhost:8080/"
        },
        "id": "szX59DkfuWtV",
        "outputId": "249aab1d-d53e-4b35-d340-8eea2d4da41d"
      },
      "source": [
        "#Check the content of the diectory\n",
        "!ls"
      ],
      "execution_count": 8,
      "outputs": [
        {
          "output_type": "stream",
          "text": [
            "car-brand-images-dataset.zip  kaggle.json\n"
          ],
          "name": "stdout"
        }
      ]
    },
    {
      "cell_type": "code",
      "metadata": {
        "colab": {
          "base_uri": "https://localhost:8080/"
        },
        "id": "a-vuXL9aud_x",
        "outputId": "22d774d5-7b6e-4e52-c51a-204acbe4e01c"
      },
      "source": [
        "#unzip the data and remove the ZIP file\n",
        "!unzip \\*.zip && rm *.zip"
      ],
      "execution_count": 9,
      "outputs": [
        {
          "output_type": "stream",
          "text": [
            "Archive:  car-brand-images-dataset.zip\n",
            "  inflating: Test/audi/21.jpg        \n",
            "  inflating: Test/audi/22.jpg        \n",
            "  inflating: Test/audi/23.jpg        \n",
            "  inflating: Test/audi/24.jpg        \n",
            "  inflating: Test/audi/25.jpg        \n",
            "  inflating: Test/audi/26.jpg        \n",
            "  inflating: Test/audi/27.jpg        \n",
            "  inflating: Test/audi/28.jpg        \n",
            "  inflating: Test/audi/29.jpg        \n",
            "  inflating: Test/lamborghini/1.jpg  \n",
            "  inflating: Test/lamborghini/10.jpg  \n",
            "  inflating: Test/lamborghini/11.jpg  \n",
            "  inflating: Test/lamborghini/12.jpg  \n",
            "  inflating: Test/lamborghini/13.jpg  \n",
            "  inflating: Test/lamborghini/14.jpg  \n",
            "  inflating: Test/lamborghini/15.jpg  \n",
            "  inflating: Test/lamborghini/16.jpg  \n",
            "  inflating: Test/lamborghini/17.jpg  \n",
            "  inflating: Test/lamborghini/18.jpg  \n",
            "  inflating: Test/lamborghini/19.jpg  \n",
            "  inflating: Test/lamborghini/2.jpg  \n",
            "  inflating: Test/lamborghini/20.jog.jpg  \n",
            "  inflating: Test/lamborghini/21.jpg  \n",
            "  inflating: Test/lamborghini/22.jpg  \n",
            "  inflating: Test/lamborghini/23.jpg  \n",
            "  inflating: Test/lamborghini/24.jpg  \n",
            "  inflating: Test/lamborghini/25.jpg  \n",
            "  inflating: Test/lamborghini/26.jpg  \n",
            "  inflating: Test/lamborghini/27.jpg  \n",
            "  inflating: Test/lamborghini/28.jpg  \n",
            "  inflating: Test/lamborghini/29.jpg  \n",
            "  inflating: Test/lamborghini/3.jpg  \n",
            "  inflating: Test/lamborghini/30.jpg  \n",
            "  inflating: Test/lamborghini/4.jpg  \n",
            "  inflating: Test/lamborghini/5.jpg  \n",
            "  inflating: Test/lamborghini/6.jpg  \n",
            "  inflating: Test/lamborghini/7.jpg  \n",
            "  inflating: Test/lamborghini/8.jpg  \n",
            "  inflating: Test/lamborghini/9.jpg  \n",
            "  inflating: Test/mercedes/27.jpg    \n",
            "  inflating: Test/mercedes/28.jpg    \n",
            "  inflating: Test/mercedes/29.jpg    \n",
            "  inflating: Test/mercedes/30.jpg    \n",
            "  inflating: Test/mercedes/31.jpg    \n",
            "  inflating: Test/mercedes/32.jpg    \n",
            "  inflating: Test/mercedes/33.jpg    \n",
            "  inflating: Test/mercedes/34.jpg    \n",
            "  inflating: Test/mercedes/35.jpg    \n",
            "  inflating: Test/mercedes/36.jpg    \n",
            "  inflating: Test/mercedes/37.jpg    \n",
            "  inflating: Test/mercedes/38.jpg    \n",
            "  inflating: Test/mercedes/39.jpg    \n",
            "  inflating: Test/mercedes/40.jpg    \n",
            "  inflating: Test/mercedes/41.jpg    \n",
            "  inflating: Test/mercedes/42.jpg    \n",
            "  inflating: Test/mercedes/43.jpg    \n",
            "  inflating: Test/mercedes/44.jpg    \n",
            "  inflating: Test/mercedes/45.jpg    \n",
            "  inflating: Train/audi/1.jpg        \n",
            "  inflating: Train/audi/10.jpg       \n",
            "  inflating: Train/audi/11.jpg       \n",
            "  inflating: Train/audi/12.jpg       \n",
            "  inflating: Train/audi/13.jpg       \n",
            "  inflating: Train/audi/14.jpg       \n",
            "  inflating: Train/audi/15.jpg       \n",
            "  inflating: Train/audi/16.jpg       \n",
            "  inflating: Train/audi/17.jpg       \n",
            "  inflating: Train/audi/18.jpg       \n",
            "  inflating: Train/audi/19.jpg       \n",
            "  inflating: Train/audi/2.jpg        \n",
            "  inflating: Train/audi/20.jpg       \n",
            "  inflating: Train/audi/3.jpg        \n",
            "  inflating: Train/audi/4.jpg        \n",
            "  inflating: Train/audi/5.jpg        \n",
            "  inflating: Train/audi/6.jpg        \n",
            "  inflating: Train/audi/7.jpg        \n",
            "  inflating: Train/audi/8.jpg        \n",
            "  inflating: Train/audi/9.jpg        \n",
            "  inflating: Train/lamborghini/1.jpg  \n",
            "  inflating: Train/lamborghini/10.jpg  \n",
            "  inflating: Train/lamborghini/11.jpg  \n",
            "  inflating: Train/lamborghini/12.jpg  \n",
            "  inflating: Train/lamborghini/13.jpg  \n",
            "  inflating: Train/lamborghini/14.jpg  \n",
            "  inflating: Train/lamborghini/15.jpg  \n",
            "  inflating: Train/lamborghini/16.jpg  \n",
            "  inflating: Train/lamborghini/17.jpg  \n",
            "  inflating: Train/lamborghini/18.jpg  \n",
            "  inflating: Train/lamborghini/19.jpg  \n",
            "  inflating: Train/lamborghini/2.jpg  \n",
            "  inflating: Train/lamborghini/3.jpg  \n",
            "  inflating: Train/lamborghini/4.jpg  \n",
            "  inflating: Train/lamborghini/5.jpg  \n",
            "  inflating: Train/lamborghini/6.jpg  \n",
            "  inflating: Train/lamborghini/7.jpg  \n",
            "  inflating: Train/lamborghini/8.jpg  \n",
            "  inflating: Train/lamborghini/9.jpg  \n",
            "  inflating: Train/mercedes/1.jpg    \n",
            "  inflating: Train/mercedes/10.jpg   \n",
            "  inflating: Train/mercedes/11.jpg   \n",
            "  inflating: Train/mercedes/12.jpg   \n",
            "  inflating: Train/mercedes/13.jpg   \n",
            "  inflating: Train/mercedes/14.jpg   \n",
            "  inflating: Train/mercedes/15.jpg   \n",
            "  inflating: Train/mercedes/16.jpg   \n",
            "  inflating: Train/mercedes/17.jpg   \n",
            "  inflating: Train/mercedes/18.jpg   \n",
            "  inflating: Train/mercedes/19.jpg   \n",
            "  inflating: Train/mercedes/2.jpg    \n",
            "  inflating: Train/mercedes/20.jpg   \n",
            "  inflating: Train/mercedes/21.jpg   \n",
            "  inflating: Train/mercedes/22.jpg   \n",
            "  inflating: Train/mercedes/23.jpg   \n",
            "  inflating: Train/mercedes/24.jpg   \n",
            "  inflating: Train/mercedes/25.jpg   \n",
            "  inflating: Train/mercedes/3.jpg    \n",
            "  inflating: Train/mercedes/4.jpg    \n",
            "  inflating: Train/mercedes/5.jpg    \n",
            "  inflating: Train/mercedes/6.jpg    \n",
            "  inflating: Train/mercedes/7.jpg    \n",
            "  inflating: Train/mercedes/8.jpf.jpg  \n",
            "  inflating: Train/mercedes/9.jpg    \n"
          ],
          "name": "stdout"
        }
      ]
    },
    {
      "cell_type": "code",
      "metadata": {
        "id": "55QxnsUQulEj"
      },
      "source": [
        "# Importing the important Libraries\n",
        "from tensorflow.keras.layers import Input, Lambda, Dense, Flatten\n",
        "from tensorflow.keras.models import Model\n",
        "from tensorflow.keras.applications.resnet50 import ResNet50\n",
        "\n",
        "#import VGG16\n",
        "from tensorflow.keras.applications.resnet50 import preprocess_input\n",
        "from tensorflow.keras.preprocessing import image\n",
        "from tensorflow.keras.preprocessing.image import ImageDataGenerator, load_img\n",
        "\n",
        "from tensorflow.keras.models import Sequential\n",
        "\n",
        "import numpy as np\n",
        "import matplotlib.pyplot as plt\n",
        "\n",
        "from glob import glob"
      ],
      "execution_count": 10,
      "outputs": []
    },
    {
      "cell_type": "code",
      "metadata": {
        "id": "yWnOjxauwJTL"
      },
      "source": [
        "#resizing all the images to 224, 224\n",
        "IMAGE_SIZE = [224, 224]\n",
        "\n",
        "train_path = 'Train'\n",
        "test_path = 'Test'"
      ],
      "execution_count": 12,
      "outputs": []
    },
    {
      "cell_type": "code",
      "metadata": {
        "id": "RuGeTYZNxkC3"
      },
      "source": [
        ""
      ],
      "execution_count": null,
      "outputs": []
    }
  ]
}